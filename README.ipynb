{
 "cells": [
  {
   "cell_type": "markdown",
   "metadata": {},
   "source": [
    "# CSDMS and Landlab Jupyter Notebooks"
   ]
  },
  {
   "cell_type": "markdown",
   "metadata": {},
   "source": [
    "All CSDMS and Landlab Jupyter Notebooks are located in the [~/notebooks](./notebooks) directory. A description of each is given below. Click on a link to open and run a Notebook."
   ]
  },
  {
   "cell_type": "markdown",
   "metadata": {},
   "source": [
    "## CSDMS"
   ]
  },
  {
   "cell_type": "markdown",
   "metadata": {},
   "source": [
    "A demostration of the Python Modeling Tool (PyMT) is given in a set of notebooks:\n",
    "\n",
    "* [Introduction to PyMT](./notebooks/pymt-demo/Introduction.ipynb). An overview of PyMT.\n",
    "* Run three different models in PyMT: [Hydrotrend](./notebooks/pymt-demo/Example 0.ipynb), [SedFlux3D](./notebooks/pymt-demo/Example 1.ipynb), and [Child](./notebooks/pymt-demo/Example 2.ipynb). These notebooks are nearly identical because once you know how to run one model in PyMT, you can run *any* model in PyMT.\n",
    "* [Couple Child and SedFlux](./notebooks/pymt-demo/Example 3.ipynb). Use PyMT to interactively couple the Child and SedFlux models."
   ]
  },
  {
   "cell_type": "markdown",
   "metadata": {},
   "source": [
    "## Landlab"
   ]
  },
  {
   "cell_type": "markdown",
   "metadata": {},
   "source": [
    "A suggested introduction to Landlab follows roughly this order:\n",
    "\n",
    "* [Introduction to Python and NumPy](./notebooks/python_intro/Python_intro.ipynb). The very basics of Python.\n",
    "* [Introduction to Landlab: example model of fault-scarp degradation](./notebooks/fault_scarp/landlab-fault-scarp.ipynb).\n",
    "A short overview of some of the things Landlab can do.\n",
    "* [Introduction to the model grid object](./notebooks/grid_object_demo/grid_object_demo.ipynb).\n",
    "Grid topology; how landlab represents data; connectivity of grid elements.\n",
    "* [Introduction to Landlab data fields](./notebooks/fields/working_with_fields.ipynb).\n",
    "How Landlab stores spatial data on the grid; a little on naming conventions.\n",
    "* [Introduction to plotting output with Landlab](./notebooks/plotting/landlab-plotting.ipynb).\n",
    "The basics of plotting with Landlab; combining matplotlib and out plots; the all-powerful `imshow_grid()` function.\n",
    "* [Introduction to using the Landlab component library](./notebooks/component_tutorial/component_tutorial.ipynb).\n",
    "The basics of working with and coupling components, using _diffusion_, _stream power_, and a _storm generator_ as examples.\n",
    "* [Using the gradient and flux-divergence functions](./notebooks/gradient_and_divergence/gradient_and_divergence.ipynb).\n",
    "Landlab as solving environment for staggered grid finite difference differential approximations; functions available to help you do this.\n",
    "* [Mapping values from nodes to links](./notebooks/mappers/mappers.ipynb).\n",
    "Options for getting data on links to nodes, nodes to links, etc.; min, max, and mean; upwinding and downwinding schemes; one-to-one, one-to-many, and many-to-one mappings.\n",
    "* [Setting boundary conditions on Landlab grids (several tutorials)](https://nbviewer.jupyter.org/github/landlab/tutorials/tree/master/boundary_conds/)\n",
    "How Landlab conceptualises boundary conditions; various ways to interact and work with them.\n",
    "* [Reading DEMs into Landlab](./notebooks/reading_dem_into_landlab/reading_dem_into_landlab.ipynb)\n",
    "Getting an ARC ESRI ASCII into Landlab; getting the boundary conditions set right.\n",
    "* [How to write a Landlab component](./notebooks/making_components/making_components.ipynb)\n",
    "What makes up a Landlab Component Standard Interface; how to make one for your process model.\n",
    "\n",
    "Notebook tutorials on Landlab's components include:\n",
    "* Flow Direction and Accumulation\n",
    "  * [Introduction to the FlowDirector Components](./notebooks/flow_direction_and_accumulation/Comparison%20of%20FlowDirectors.ipynb)\n",
    "  * [Introduction to the FlowAccumulator Component](./notebooks/flow_direction_and_accumulation/Introduction%20to%20the%20FlowAccumulator.ipynb)\n",
    "  * [Comparison of FlowDirector Components](./notebooks/flow_direction_and_accumulation/Comparison%20of%20FlowDirectors.ipynb)\n",
    "* [Flexure](./notebooks/flexure/lots_of_loads.ipynb)\n",
    "* [Overland flow](./notebooks/overland_flow/overland_flow_driver.ipynb)\n",
    "* [Diffusion, stream power, and the storm generator](./notebooks/component_tutorial/component_tutorial.ipynb)\n",
    "* [Ecohydrology Model on Flat Domain](./notebooks/ecohydrology/cellular_automaton_vegetation_flat_surface/cellular_automaton_vegetation_flat_domain.ipynb)\n",
    "* [Ecohydrology Model on Actual Landscape](./notebooks/ecohydrology/cellular_automaton_vegetation_DEM/cellular_automaton_vegetation_DEM.ipynb)"
   ]
  }
 ],
 "metadata": {
  "anaconda-cloud": {},
  "kernelspec": {
   "display_name": "Python 2",
   "language": "python",
   "name": "python2"
  },
  "language_info": {
   "codemirror_mode": {
    "name": "ipython",
    "version": 2
   },
   "file_extension": ".py",
   "mimetype": "text/x-python",
   "name": "python",
   "nbconvert_exporter": "python",
   "pygments_lexer": "ipython2",
   "version": "2.7.13"
  }
 },
 "nbformat": 4,
 "nbformat_minor": 0
}
