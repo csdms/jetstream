{
 "cells": [
  {
   "cell_type": "markdown",
   "metadata": {},
   "source": [
    "# Couple Child and SedFlux"
   ]
  },
  {
   "cell_type": "markdown",
   "metadata": {},
   "source": [
    "PyMT makes it possible to interactively perform a two-way coupling of the Child and SedFlux models, all in Python!"
   ]
  },
  {
   "cell_type": "code",
   "execution_count": null,
   "metadata": {
    "collapsed": true
   },
   "outputs": [],
   "source": [
    "# Some magic to make plots appear within the notebook\n",
    "%matplotlib inline\n",
    "import numpy as np # In case we need to use numpy"
   ]
  },
  {
   "cell_type": "code",
   "execution_count": null,
   "metadata": {},
   "outputs": [],
   "source": [
    "from pymt.components import Sedflux3D, Child\n",
    "\n",
    "child = Child()\n",
    "sedflux = Sedflux3D()\n",
    "\n",
    "child_in, child_dir = child.setup(grid_node_spacing=500.,\n",
    "                                  grid_x_size=40000.,\n",
    "                                  grid_y_size=20000.,\n",
    "                                  run_duration=1e6)\n",
    "sedflux_in, sedflux_dir = sedflux.setup(river_bed_load_flux=0.,\n",
    "                                        river_suspended_load_concentration_0=.001,\n",
    "                                        river_suspended_load_concentration_1=.001,\n",
    "                                        run_duration=1e6 * 365.)\n",
    "\n",
    "child.initialize(child_in, dir=child_dir)\n",
    "sedflux.initialize(sedflux_in, dir=sedflux_dir)"
   ]
  },
  {
   "cell_type": "code",
   "execution_count": null,
   "metadata": {
    "collapsed": true
   },
   "outputs": [],
   "source": [
    "gid = child.var['land_surface__elevation'].grid\n",
    "x, y = child.get_grid_x(gid), child.get_grid_y(gid)\n",
    "z = child.get_value('land_surface__elevation')"
   ]
  },
  {
   "cell_type": "code",
   "execution_count": null,
   "metadata": {
    "collapsed": true
   },
   "outputs": [],
   "source": [
    "x_shore = 20000.\n",
    "z[np.where(x > x_shore)] += 100.\n",
    "z[np.where(x <= x_shore)] -= 100.\n",
    "\n",
    "child.set_value('land_surface__elevation', z)"
   ]
  },
  {
   "cell_type": "code",
   "execution_count": null,
   "metadata": {},
   "outputs": [],
   "source": [
    "sedflux.set_value('bedrock_surface__elevation', mapfrom=('land_surface__elevation', child))"
   ]
  },
  {
   "cell_type": "code",
   "execution_count": null,
   "metadata": {},
   "outputs": [],
   "source": [
    "child.quick_plot('land_surface__elevation', edgecolors='k', vmin=-200, vmax=200, cmap='BrBG_r')"
   ]
  },
  {
   "cell_type": "code",
   "execution_count": null,
   "metadata": {},
   "outputs": [],
   "source": [
    "sedflux.quick_plot('bedrock_surface__elevation', vmin=-200, vmax=200, cmap='BrBG_r')"
   ]
  },
  {
   "cell_type": "code",
   "execution_count": null,
   "metadata": {
    "collapsed": true
   },
   "outputs": [],
   "source": [
    "now = child.get_current_time()\n",
    "times = np.arange(now, now + 100, 1.)\n",
    "for t in times:\n",
    "    child.update_until(t, units='years')\n",
    "\n",
    "    sedflux.set_value('channel_water_sediment~bedload__mass_flow_rate',\n",
    "                      mapfrom=child)\n",
    "    sedflux.update_until(t, units='years')\n",
    "    \n",
    "    z = child.get_value('land_surface__elevation')\n",
    "    child.set_value('land_surface__elevation',\n",
    "                    mapfrom=('land-or-seabed_sediment_surface__elevation', sedflux),\n",
    "                    nomap=np.where(z>0.))"
   ]
  },
  {
   "cell_type": "code",
   "execution_count": null,
   "metadata": {},
   "outputs": [],
   "source": [
    "child.quick_plot('land_surface__elevation', edgecolors='k', vmin=-100, vmax=-99, cmap='BrBG_r')"
   ]
  },
  {
   "cell_type": "code",
   "execution_count": null,
   "metadata": {},
   "outputs": [],
   "source": [
    "child.quick_plot('channel_water_sediment~bedload__mass_flow_rate', vmax=1e6)"
   ]
  },
  {
   "cell_type": "code",
   "execution_count": null,
   "metadata": {},
   "outputs": [],
   "source": [
    "sedflux.output_var_names"
   ]
  },
  {
   "cell_type": "code",
   "execution_count": null,
   "metadata": {},
   "outputs": [],
   "source": [
    "sedflux.get_current_time(units='year')"
   ]
  },
  {
   "cell_type": "code",
   "execution_count": null,
   "metadata": {},
   "outputs": [],
   "source": [
    "help(sedflux)"
   ]
  }
 ],
 "metadata": {
  "kernelspec": {
   "display_name": "Python 2",
   "language": "python",
   "name": "python2"
  },
  "language_info": {
   "codemirror_mode": {
    "name": "ipython",
    "version": 2
   },
   "file_extension": ".py",
   "mimetype": "text/x-python",
   "name": "python",
   "nbconvert_exporter": "python",
   "pygments_lexer": "ipython2",
   "version": "2.7.13"
  }
 },
 "nbformat": 4,
 "nbformat_minor": 2
}
